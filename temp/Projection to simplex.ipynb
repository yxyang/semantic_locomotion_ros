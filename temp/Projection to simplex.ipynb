{
 "cells": [
  {
   "cell_type": "code",
   "execution_count": 1,
   "id": "629ca356",
   "metadata": {},
   "outputs": [],
   "source": [
    "import numpy as np"
   ]
  },
  {
   "cell_type": "code",
   "execution_count": 55,
   "id": "a0af8795",
   "metadata": {},
   "outputs": [],
   "source": [
    "def proj(y):\n",
    "    y = np.array(y)\n",
    "    y_sorted = np.array(sorted(y)[::-1])\n",
    "    p = 0\n",
    "    while (p <= y.shape[0] - 1) and (1+(p+1)*y_sorted[p] >= np.sum(y_sorted[:p+1])):\n",
    "        p += 1\n",
    "    \n",
    "    lam = (-1 + np.sum(y_sorted[:p])) / (p)\n",
    "    print(p, lam)\n",
    "    return np.maximum(y-lam, 0)\n",
    "        "
   ]
  },
  {
   "cell_type": "code",
   "execution_count": 58,
   "id": "76890a07",
   "metadata": {},
   "outputs": [
    {
     "name": "stdout",
     "output_type": "stream",
     "text": [
      "2 1.05\n"
     ]
    },
    {
     "data": {
      "text/plain": [
       "array([0.  , 0.  , 0.95, 0.05])"
      ]
     },
     "execution_count": 58,
     "metadata": {},
     "output_type": "execute_result"
    }
   ],
   "source": [
    "y = [0.5,1.0,2.0,1.1]\n",
    "# y = [0.3, 0.7]\n",
    "proj(y)"
   ]
  },
  {
   "cell_type": "code",
   "execution_count": null,
   "id": "8befc997",
   "metadata": {},
   "outputs": [],
   "source": []
  }
 ],
 "metadata": {
  "kernelspec": {
   "display_name": "Python 3 (ipykernel)",
   "language": "python",
   "name": "python3"
  },
  "language_info": {
   "codemirror_mode": {
    "name": "ipython",
    "version": 3
   },
   "file_extension": ".py",
   "mimetype": "text/x-python",
   "name": "python",
   "nbconvert_exporter": "python",
   "pygments_lexer": "ipython3",
   "version": "3.8.5"
  }
 },
 "nbformat": 4,
 "nbformat_minor": 5
}
